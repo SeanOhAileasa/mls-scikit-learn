{
 "cells": [
  {
   "cell_type": "code",
   "execution_count": null,
   "id": "76b6aaa9",
   "metadata": {},
   "outputs": [
    {
     "data": {
      "text/html": [
       "<script>Jupyter.notebook.kernel.restart()</script>"
      ]
     },
     "metadata": {},
     "output_type": "display_data"
    }
   ],
   "source": [
    "from IPython.core.display import display_html\n",
    "display_html(\"<script>Jupyter.notebook.kernel.restart()</script>\",raw=True)"
   ]
  },
  {
   "cell_type": "code",
   "execution_count": 1,
   "id": "19093beb",
   "metadata": {},
   "outputs": [
    {
     "data": {
      "text/html": [
       "<style>.container { width:100% !important; }</style>"
      ],
      "text/plain": [
       "<IPython.core.display.HTML object>"
      ]
     },
     "metadata": {},
     "output_type": "display_data"
    },
    {
     "data": {
      "text/html": [
       "<style>.container { width:100% !important; }</style>"
      ],
      "text/plain": [
       "<IPython.core.display.HTML object>"
      ]
     },
     "metadata": {},
     "output_type": "display_data"
    }
   ],
   "source": [
    "from sys import path; path.insert(1,\"../src\");\n",
    "import fubar; from importlib import reload; reload(fubar);"
   ]
  },
  {
   "cell_type": "code",
   "execution_count": 2,
   "id": "2d079e5e",
   "metadata": {},
   "outputs": [],
   "source": [
    "import matplotlib.pyplot as plt\n",
    "plt.style.use(style=\"ggplot\")\n",
    "plt.rcParams[\"figure.figsize\"]=12.8,7.2"
   ]
  },
  {
   "cell_type": "markdown",
   "id": "616b0550",
   "metadata": {},
   "source": [
    "***\n",
    "< [GMIT Data Analytics](https://web.archive.org/web/20201029063153/https://www.gmit.ie/computer-science-and-applied-physics/higher-diploma-science-computing-data-analytics-ict) | [Home](https://github.com/SeanOhAileasa) | [README](https://github.com/SeanOhAileasa/mls-scikit-learn/blob/main/README.md) >\n",
    "\n",
    "[![GMIT](https://github.com/SeanOhAileasa/SeanOhAileasa/blob/master/rc/gmit.png?raw=true)](https://web.archive.org/web/20201029063153/https://www.gmit.ie/computer-science-and-applied-physics/higher-diploma-science-computing-data-analytics-ict)\n",
    "\n",
    "## Machine Learning & Statistics - Supplemental Course Material 2021\n",
    "### Topic: [``scikit-learn``](https://nbviewer.jupyter.org/github/SeanOhAileasa/mls-scikit-learn/blob/main/mls-scikit-learn.ipynb)\n",
    "***"
   ]
  },
  {
   "cell_type": "markdown",
   "id": "85ba523b",
   "metadata": {},
   "source": [
    "- referenced external link - [Machine Learning & Statistics](https://nbviewer.jupyter.org/github/SeanOhAileasa/mls-machine-learning-statistics/blob/main/mls-machine-learning-statistics.ipynb)"
   ]
  },
  {
   "cell_type": "markdown",
   "id": "5d595549",
   "metadata": {},
   "source": [
    "Supplemental course material for the ``Higher Diploma in Science in Computing (Data Analytics) (H.Dip)`` programme (75 Credits) at **Galway-Mayo Institute of Technology (GMIT)**. This repository is for self-study/self-examination for future modules of the H.Dip programme and preparation for future workplace opportunities."
   ]
  },
  {
   "cell_type": "markdown",
   "id": "23dd6ad2",
   "metadata": {},
   "source": [
    "< [Table of Contents](#top) | [References](#references) >\n",
    "<a id=\"structure\"></a>\n",
    "***\n",
    "## Structure\n",
    "***"
   ]
  },
  {
   "cell_type": "markdown",
   "id": "cc1d417c",
   "metadata": {},
   "source": [
    "``\"Remove literary, grammatical and syntactical inhibition.\"`` [J. Kerouac, \"Belief + Techniques for Modern Prose\", [americandigest.org](https://americandigest.org/wp/wp-content/uploads/2021/05/kerouacnotes.jpeg), 1958.]"
   ]
  },
  {
   "cell_type": "markdown",
   "id": "b21bbeef",
   "metadata": {},
   "source": [
    "<a id=\"top\"></a>\n",
    "***\n",
    "## Table of Contents\n",
    "***"
   ]
  },
  {
   "cell_type": "markdown",
   "id": "95f30607",
   "metadata": {},
   "source": [
    "###### Quick Links\n",
    "***\n",
    "\n",
    "* [Machine Learning](#topML)&nbsp;&nbsp;|&nbsp;&nbsp;[Learning & Predicting](#topLP) <br/><br/>"
   ]
  },
  {
   "cell_type": "markdown",
   "id": "e1449819",
   "metadata": {},
   "source": [
    "<a id=\"topML\"></a>\n",
    "### [Machine Learning](#anintroductiontomachinelearningwithscikit)\n",
    "<hr width=50%;>\n",
    "\n",
    "* [Learning Problem](#anintroductiontomachinelearningwithscikitLearningProblem) <br/><br/>\n",
    "    * [Supervised Learning](#anintroductiontomachinelearningwithscikitLearningProblemSupervisedLearning) <br/><br/>\n",
    "        * [Classification](#anintroductiontomachinelearningwithscikitLearningProblemSupervisedLearningClassification) <br/><br/>\n",
    "        * [Regression](#anintroductiontomachinelearningwithscikitLearningProblemSupervisedLearningRegression) <br/><br/>\n",
    "    * [Unsupervised Learning](#anintroductiontomachinelearningwithscikitLearningProblemUnsupervisedLearning) <br/><br/><br/><br/>\n",
    "* [Training Testing](#anintroductiontomachinelearningwithscikitTrainingTesting) <br/><br/><br/><br/>\n",
    "* [Load Dataset](#anintroductiontomachinelearningwithscikitLoadDataset) <br/><br/><br/><br/><a id=\"topLP\"></a>\n",
    "* [Learning & Predicting](#anintroductiontomachinelearningwithscikitLearningPredicting) <br/><br/>\n",
    "    * [Classifer](#anintroductiontomachinelearningwithscikitLearningPredictingClassifer) <br/><br/>\n",
    "        * [Fit Model](#anintroductiontomachinelearningwithscikitLearningPredictingClassiferFitModel) <br/><br/>\n",
    "            * [Predict](#anintroductiontomachinelearningwithscikitLearningPredictingClassiferFitModelPredict) <br/><br/><br/><br/>\n",
    "* [Conventions](#anintroductiontomachinelearningwithscikitConventions) <br/><br/>\n",
    "    * [Type Casting](#anintroductiontomachinelearningwithscikitConventionsTypeCasting) <br/><br/>\n",
    "    * [Refitting and Updating Parameters](https://scikit-learn.org/stable/tutorial/basic/tutorial.html#refitting-and-updating-parameters) **[External Link]** <br/><br/>\n",
    "    * [Multiclass vs. Multilabel Fitting](https://scikit-learn.org/stable/tutorial/basic/tutorial.html#multiclass-vs-multilabel-fitting) **[External Link]**"
   ]
  },
  {
   "cell_type": "markdown",
   "id": "bc989e6f",
   "metadata": {},
   "source": [
    "***\n",
    "## END"
   ]
  },
  {
   "cell_type": "markdown",
   "id": "0c88ab4a",
   "metadata": {},
   "source": [
    "< [Table of Contents](#top) | [References](#references) >\n",
    "<a id=\"anintroductiontomachinelearningwithscikit\"></a>\n",
    "***\n",
    "### Machine Learning\n",
    "***"
   ]
  },
  {
   "cell_type": "markdown",
   "id": "c2b02fff",
   "metadata": {},
   "source": [
    "< [Table of Contents](#top) | [References](#references) >\n",
    "<a id=\"anintroductiontomachinelearningwithscikitLearningProblem\"></a>\n",
    "***\n",
    "###### Learning Problem\n",
    "***"
   ]
  },
  {
   "cell_type": "markdown",
   "id": "82368e81",
   "metadata": {},
   "source": [
    "- a learning problem considers a set of ``n`` samples of data and then tries to predict properties of unknown data [1]"
   ]
  },
  {
   "cell_type": "markdown",
   "id": "00b64e88",
   "metadata": {},
   "source": [
    "- if each sample is more than a single number (and for instance a multi-dimensional entry aka [multivariate](https://en.wikipedia.org/wiki/Multivariate_random_variable) data) then it is said to have several attributes or features [2]"
   ]
  },
  {
   "cell_type": "markdown",
   "id": "6261f684",
   "metadata": {},
   "source": [
    "- learning problems fall into a few categories: i. supervised learning and ii. unsupervised learning [1]"
   ]
  },
  {
   "cell_type": "markdown",
   "id": "6ec1e218",
   "metadata": {},
   "source": [
    "< [Table of Contents](#top) | [References](#references) >\n",
    "<a id=\"anintroductiontomachinelearningwithscikitLearningProblemSupervisedLearning\"></a>\n",
    "***\n",
    "###### Supervised Learning\n",
    "***"
   ]
  },
  {
   "cell_type": "markdown",
   "id": "5a8f4cd9",
   "metadata": {},
   "source": [
    "- the data comes with additional attributes that we want to predict ([``scikit-learn``](https://scikit-learn.org/stable/supervised_learning.html#supervised-learning)) [[Supervised Learning](https://en.wikipedia.org/wiki/Supervised_learning)][1]"
   ]
  },
  {
   "cell_type": "markdown",
   "id": "902b4ca3",
   "metadata": {},
   "source": [
    "- this problem can be either: i. classification or ii. regression [1]"
   ]
  },
  {
   "cell_type": "markdown",
   "id": "e000d4dc",
   "metadata": {},
   "source": [
    "< [Table of Contents](#top) | [References](#references) >\n",
    "<a id=\"anintroductiontomachinelearningwithscikitLearningProblemSupervisedLearningClassification\"></a>\n",
    "***\n",
    "###### Classification\n",
    "***"
   ]
  },
  {
   "cell_type": "markdown",
   "id": "8994d119",
   "metadata": {},
   "source": [
    "- samples belong to two or more classes and we want to learn from already labeled data how to predict the class of unlabeled data [1]"
   ]
  },
  {
   "cell_type": "markdown",
   "id": "437191e8",
   "metadata": {},
   "source": [
    "- an example of a [classification](https://en.wikipedia.org/wiki/Statistical_classification) problem would be handwritten digit recognition in which the aim is to assign each input vector to one of a finite number of discrete categories [1]"
   ]
  },
  {
   "cell_type": "markdown",
   "id": "da616964",
   "metadata": {},
   "source": [
    "- another way to think of classification is as a discrete (as opposed to continuous) form of supervised learning where one has a limited number of categories and for each of the ``n`` samples provided then try label them with the correct category or class [1]"
   ]
  },
  {
   "cell_type": "markdown",
   "id": "79865cba",
   "metadata": {},
   "source": [
    "< [Table of Contents](#top) | [References](#references) >\n",
    "<a id=\"anintroductiontomachinelearningwithscikitLearningProblemSupervisedLearningRegression\"></a>\n",
    "***\n",
    "###### Regression\n",
    "***"
   ]
  },
  {
   "cell_type": "markdown",
   "id": "10012bd4",
   "metadata": {},
   "source": [
    "- if the desired output consists of one or more continuous variables then the task is called [regression](https://en.wikipedia.org/wiki/Regression_analysis) [1]"
   ]
  },
  {
   "cell_type": "markdown",
   "id": "89886e13",
   "metadata": {},
   "source": [
    "- an example of a regression problem would be the prediction of the length of a salmon as a function of its age and weight [1]"
   ]
  },
  {
   "cell_type": "markdown",
   "id": "fc4d9015",
   "metadata": {},
   "source": [
    "< [Table of Contents](#top) | [References](#references) >\n",
    "<a id=\"anintroductiontomachinelearningwithscikitLearningProblemUnsupervisedLearning\"></a>\n",
    "***\n",
    "###### Unsupervised Learning\n",
    "***"
   ]
  },
  {
   "cell_type": "markdown",
   "id": "a4d0e165",
   "metadata": {},
   "source": [
    "- the training data consists of a set of input vectors ``x`` without any corresponding target values ([``scikit-learn``](https://scikit-learn.org/stable/unsupervised_learning.html#unsupervised-learning)) [[Unsupervised Learning](https://en.wikipedia.org/wiki/Unsupervised_learning)][1]"
   ]
  },
  {
   "cell_type": "markdown",
   "id": "f8b3f186",
   "metadata": {},
   "source": [
    "- the goal in such problems may be to:\n",
    "\n",
    "\n",
    "i . discover groups of similar examples within the data (clustering) or\n",
    "\n",
    "\n",
    "ii. to determine the distribution of data within the input space (density estimation) or \n",
    "\n",
    "\n",
    "iii. to project the data from a high-dimensional space down to two or three dimensions for the purpose of visualization [1]"
   ]
  },
  {
   "cell_type": "markdown",
   "id": "a4c991bd",
   "metadata": {},
   "source": [
    "< [Table of Contents](#top) | [References](#references) >\n",
    "<a id=\"anintroductiontomachinelearningwithscikitTrainingTesting\"></a>\n",
    "***\n",
    "###### Training Testing\n",
    "***"
   ]
  },
  {
   "cell_type": "markdown",
   "id": "573a94a6",
   "metadata": {},
   "source": [
    "- machine learning is about learning some properties of a data set and then testing those properties against another data set [1]"
   ]
  },
  {
   "cell_type": "markdown",
   "id": "8272cb49",
   "metadata": {},
   "source": [
    "- a common practice in machine learning is to evaluate an algorithm by splitting a data set into two: i. the training set on which to learn some properties and ii. the testing set on which to test the learned properties [1]"
   ]
  },
  {
   "cell_type": "markdown",
   "id": "10d2ab66",
   "metadata": {},
   "source": [
    "< [Table of Contents](#top) | [References](#references) >\n",
    "<a id=\"anintroductiontomachinelearningwithscikitLoadDataset\"></a>\n",
    "***\n",
    "###### Load Dataset\n",
    "***"
   ]
  },
  {
   "cell_type": "markdown",
   "id": "edb0a892",
   "metadata": {},
   "source": [
    "- ``scikit-learn`` comes with a few standard datasets ([``scikit-learn``](https://scikit-learn.org/stable/datasets.html#datasets)) [1]"
   ]
  },
  {
   "cell_type": "code",
   "execution_count": 3,
   "id": "056aea05",
   "metadata": {},
   "outputs": [],
   "source": [
    "from sklearn import datasets"
   ]
  },
  {
   "cell_type": "code",
   "execution_count": 4,
   "id": "635ffbcd",
   "metadata": {},
   "outputs": [
    {
     "name": "stdout",
     "output_type": "stream",
     "text": [
      "The :mod:`sklearn.datasets` module includes utilities to load datasets,\n",
      "including methods to load and fetch popular reference datasets. It also\n",
      "features some artificial data generators.\n"
     ]
    }
   ],
   "source": [
    "print(\"\\n\".join(datasets.__doc__.split(\"\\n\")[1:4]))"
   ]
  },
  {
   "cell_type": "markdown",
   "id": "575c1025",
   "metadata": {},
   "source": [
    "- iris and digits datasets for classification [1]"
   ]
  },
  {
   "cell_type": "code",
   "execution_count": 5,
   "id": "f3ffe392",
   "metadata": {},
   "outputs": [
    {
     "name": "stdout",
     "output_type": "stream",
     "text": [
      "Load and return the iris dataset (classification).\n",
      "\n",
      "    The iris dataset is a classic and very easy multi-class classification\n",
      "    dataset.\n",
      "\n",
      "    =================   ==============\n",
      "    Classes                          3\n",
      "    Samples per class               50\n",
      "    Samples total                  150\n",
      "    Dimensionality                   4\n",
      "    Features            real, positive\n",
      "    =================   ==============\n"
     ]
    }
   ],
   "source": [
    "print(\"\\n\".join(datasets.load_iris.__doc__.split(\"\\n\")[:12]))"
   ]
  },
  {
   "cell_type": "code",
   "execution_count": 6,
   "id": "43c2a06c",
   "metadata": {},
   "outputs": [],
   "source": [
    "iris=datasets.load_iris()"
   ]
  },
  {
   "cell_type": "code",
   "execution_count": 7,
   "id": "31aae0ec",
   "metadata": {
    "scrolled": false
   },
   "outputs": [],
   "source": [
    "# iris"
   ]
  },
  {
   "cell_type": "code",
   "execution_count": 8,
   "id": "416a04c3",
   "metadata": {},
   "outputs": [
    {
     "name": "stdout",
     "output_type": "stream",
     "text": [
      "Load and return the digits dataset (classification).\n",
      "\n",
      "    Each datapoint is a 8x8 image of a digit.\n",
      "\n",
      "    =================   ==============\n",
      "    Classes                         10\n",
      "    Samples per class             ~180\n",
      "    Samples total                 1797\n",
      "    Dimensionality                  64\n",
      "    Features             integers 0-16\n",
      "    =================   ==============\n"
     ]
    }
   ],
   "source": [
    "print(\"\\n\".join(datasets.load_digits.__doc__.split(\"\\n\")[:11]))"
   ]
  },
  {
   "cell_type": "code",
   "execution_count": 9,
   "id": "262ab514",
   "metadata": {},
   "outputs": [],
   "source": [
    "digits=datasets.load_digits()"
   ]
  },
  {
   "cell_type": "code",
   "execution_count": 10,
   "id": "70923507",
   "metadata": {
    "scrolled": false
   },
   "outputs": [],
   "source": [
    "# digits"
   ]
  },
  {
   "cell_type": "markdown",
   "id": "abfc6220",
   "metadata": {},
   "source": [
    "- diabetes dataset for regression [1]"
   ]
  },
  {
   "cell_type": "code",
   "execution_count": 11,
   "id": "7f5119e9",
   "metadata": {},
   "outputs": [
    {
     "name": "stdout",
     "output_type": "stream",
     "text": [
      "Load and return the diabetes dataset (regression).\n",
      "\n",
      "    ==============   ==================\n",
      "    Samples total    442\n",
      "    Dimensionality   10\n",
      "    Features         real, -.2 < x < .2\n",
      "    Targets          integer 25 - 346\n",
      "    ==============   ==================\n"
     ]
    }
   ],
   "source": [
    "print(\"\\n\".join(datasets.load_diabetes.__doc__.split(\"\\n\")[:8]))"
   ]
  },
  {
   "cell_type": "code",
   "execution_count": 12,
   "id": "d8cd3d25",
   "metadata": {},
   "outputs": [],
   "source": [
    "diabetes=datasets.load_diabetes()"
   ]
  },
  {
   "cell_type": "code",
   "execution_count": 13,
   "id": "83e9639b",
   "metadata": {},
   "outputs": [],
   "source": [
    "# diabetes"
   ]
  },
  {
   "cell_type": "markdown",
   "id": "1cfb3b44",
   "metadata": {},
   "source": [
    "- a dataset is a dictionary-like object that holds all the data and some metadata about the data [1]"
   ]
  },
  {
   "cell_type": "markdown",
   "id": "4cd6f8fd",
   "metadata": {},
   "source": [
    "- this data is stored in the ``.data`` member which is a ``n_samples`` and ``n_features`` array [1]"
   ]
  },
  {
   "cell_type": "markdown",
   "id": "4081bbd1",
   "metadata": {},
   "source": [
    "- in the case of a supervised problem one or more response variables are stored in the ``.target`` member [1]"
   ]
  },
  {
   "cell_type": "markdown",
   "id": "63dd875b",
   "metadata": {},
   "source": [
    "- ``digits.data`` gives access to the features that can be used to classify the digits samples [1]"
   ]
  },
  {
   "cell_type": "code",
   "execution_count": 14,
   "id": "76b6ebae",
   "metadata": {},
   "outputs": [
    {
     "data": {
      "text/plain": [
       "array([[ 0.,  0.,  5., ...,  0.,  0.,  0.],\n",
       "       [ 0.,  0.,  0., ..., 10.,  0.,  0.],\n",
       "       [ 0.,  0.,  0., ..., 16.,  9.,  0.],\n",
       "       ...,\n",
       "       [ 0.,  0.,  1., ...,  6.,  0.,  0.],\n",
       "       [ 0.,  0.,  2., ..., 12.,  0.,  0.],\n",
       "       [ 0.,  0., 10., ..., 12.,  1.,  0.]])"
      ]
     },
     "execution_count": 14,
     "metadata": {},
     "output_type": "execute_result"
    }
   ],
   "source": [
    "digits.data"
   ]
  },
  {
   "cell_type": "markdown",
   "id": "f604a89d",
   "metadata": {},
   "source": [
    "- ``digits.target`` gives the ground truth for the digit dataset - the number corresponding to each digit image trying to learn [1]"
   ]
  },
  {
   "cell_type": "code",
   "execution_count": 15,
   "id": "37b70936",
   "metadata": {},
   "outputs": [
    {
     "data": {
      "text/plain": [
       "array([0, 1, 2, ..., 8, 9, 8])"
      ]
     },
     "execution_count": 15,
     "metadata": {},
     "output_type": "execute_result"
    }
   ],
   "source": [
    "digits.target"
   ]
  },
  {
   "cell_type": "markdown",
   "id": "1b683fde",
   "metadata": {},
   "source": [
    "- the data is always a 2D array shape ``(n_samples,n_features)`` although the original data may have had a different shape [1]"
   ]
  },
  {
   "cell_type": "markdown",
   "id": "4e142f2f",
   "metadata": {},
   "source": [
    "- in the case of the digits each original sample is an image of shape $(8,8)$ [1]"
   ]
  },
  {
   "cell_type": "code",
   "execution_count": 16,
   "id": "bf15c93e",
   "metadata": {},
   "outputs": [
    {
     "data": {
      "text/plain": [
       "array([[ 0.,  0.,  5., 13.,  9.,  1.,  0.,  0.],\n",
       "       [ 0.,  0., 13., 15., 10., 15.,  5.,  0.],\n",
       "       [ 0.,  3., 15.,  2.,  0., 11.,  8.,  0.],\n",
       "       [ 0.,  4., 12.,  0.,  0.,  8.,  8.,  0.],\n",
       "       [ 0.,  5.,  8.,  0.,  0.,  9.,  8.,  0.],\n",
       "       [ 0.,  4., 11.,  0.,  1., 12.,  7.,  0.],\n",
       "       [ 0.,  2., 14.,  5., 10., 12.,  0.,  0.],\n",
       "       [ 0.,  0.,  6., 13., 10.,  0.,  0.,  0.]])"
      ]
     },
     "execution_count": 16,
     "metadata": {},
     "output_type": "execute_result"
    }
   ],
   "source": [
    "digits.images[0] # access shape image"
   ]
  },
  {
   "cell_type": "markdown",
   "id": "c74e39f4",
   "metadata": {},
   "source": [
    "- starting from the original problem one can shape the data for consumption in ([``scikit-learn``](https://scikit-learn.org/stable/auto_examples/classification/plot_digits_classification.html#sphx-glr-auto-examples-classification-plot-digits-classification-py)) [1]"
   ]
  },
  {
   "cell_type": "markdown",
   "id": "480f5207",
   "metadata": {},
   "source": [
    "- load from an external dataset ([``scikit-learn``](https://scikit-learn.org/stable/datasets/loading_other_datasets.html#external-datasets)) [1]"
   ]
  },
  {
   "cell_type": "markdown",
   "id": "eda29a27",
   "metadata": {},
   "source": [
    "< [Table of Contents](#top) | [References](#references) >\n",
    "<a id=\"anintroductiontomachinelearningwithscikitLearningPredicting\"></a>\n",
    "***\n",
    "###### Learning & Predicting\n",
    "***"
   ]
  },
  {
   "cell_type": "markdown",
   "id": "8f075b33",
   "metadata": {},
   "source": [
    "- in the case of the digits dataset the task is to predict given an image which digit it represents [1]"
   ]
  },
  {
   "cell_type": "markdown",
   "id": "5d960b37",
   "metadata": {},
   "source": [
    "- are given samples of each of the 10 possible classes (the digits zero through nine) on which to fit an [estimator](https://en.wikipedia.org/wiki/Estimator) (model) to be able to predict the classes to which unseen samples belong [1]"
   ]
  },
  {
   "cell_type": "markdown",
   "id": "e4a113db",
   "metadata": {},
   "source": [
    "- an estimator (model) for classification is a python object that implements the methods ``fit(X,y)`` and ``predict(T)`` [1]"
   ]
  },
  {
   "cell_type": "markdown",
   "id": "3e8d7231",
   "metadata": {},
   "source": [
    "- an example of an estimator (model) is the class ``sklearn.svm.SVC`` which implements support vector classication ([support vector machine](https://en.wikipedia.org/wiki/Support-vector_machine)) [1]"
   ]
  },
  {
   "cell_type": "markdown",
   "id": "0fe11878",
   "metadata": {},
   "source": [
    "- the estimator (model) constructor takes as arguments the models parameters [1]"
   ]
  },
  {
   "cell_type": "markdown",
   "id": "d1f95a63",
   "metadata": {},
   "source": [
    "- for now will consider the estimator (model) as a black box [1]"
   ]
  },
  {
   "cell_type": "markdown",
   "id": "1727ee82",
   "metadata": {},
   "source": [
    "< [Table of Contents](#top) | [References](#references) >\n",
    "<a id=\"anintroductiontomachinelearningwithscikitLearningPredictingClassifer\"></a>\n",
    "***\n",
    "###### Classifer\n",
    "***"
   ]
  },
  {
   "cell_type": "code",
   "execution_count": 17,
   "id": "1654fae6",
   "metadata": {},
   "outputs": [],
   "source": [
    "from sklearn import svm"
   ]
  },
  {
   "cell_type": "code",
   "execution_count": 18,
   "id": "042f0634",
   "metadata": {},
   "outputs": [
    {
     "name": "stdout",
     "output_type": "stream",
     "text": [
      "The :mod:`sklearn.svm` module includes Support Vector Machine algorithms.\n"
     ]
    }
   ],
   "source": [
    "print(\"\\n\".join(svm.__doc__.split(\"\\n\")[1:2]))"
   ]
  },
  {
   "cell_type": "markdown",
   "id": "8b8dbdb6",
   "metadata": {},
   "source": [
    "- the value of ``gamma`` is set manually - to find good values for these parameters can use tools such as [grid search](https://scikit-learn.org/stable/modules/grid_search.html#grid-search) and [cross validation](https://scikit-learn.org/stable/modules/cross_validation.html#cross-validation) [1]"
   ]
  },
  {
   "cell_type": "code",
   "execution_count": 19,
   "id": "db632430",
   "metadata": {},
   "outputs": [
    {
     "name": "stdout",
     "output_type": "stream",
     "text": [
      "C-Support Vector Classification.\n"
     ]
    }
   ],
   "source": [
    "print(\"\\n\".join(svm.SVC.__doc__.split(\"\\n\")[:1]))"
   ]
  },
  {
   "cell_type": "code",
   "execution_count": 20,
   "id": "21e040a5",
   "metadata": {},
   "outputs": [],
   "source": [
    "clf=svm.SVC(C=100.,gamma=0.001) # represents the classifer"
   ]
  },
  {
   "cell_type": "code",
   "execution_count": 21,
   "id": "97fc150e",
   "metadata": {},
   "outputs": [
    {
     "data": {
      "text/plain": [
       "SVC(C=100.0, gamma=0.001)"
      ]
     },
     "execution_count": 21,
     "metadata": {},
     "output_type": "execute_result"
    }
   ],
   "source": [
    "clf"
   ]
  },
  {
   "cell_type": "markdown",
   "id": "b90b27a2",
   "metadata": {},
   "source": [
    "< [Table of Contents](#top) | [References](#references) >\n",
    "<a id=\"anintroductiontomachinelearningwithscikitLearningPredictingClassiferFitModel\"></a>\n",
    "***\n",
    "###### Fit Model\n",
    "***"
   ]
  },
  {
   "cell_type": "markdown",
   "id": "3c057f18",
   "metadata": {},
   "source": [
    "- the ``clf`` estimator (model) instance is first fitted to the model - it must learn from the model [1]"
   ]
  },
  {
   "cell_type": "markdown",
   "id": "5d80e2f6",
   "metadata": {},
   "source": [
    "- this is done by passing the training set to the method ``fit`` [1]"
   ]
  },
  {
   "cell_type": "markdown",
   "id": "f0148a1c",
   "metadata": {},
   "source": [
    "- for the training set will use all the images from our dataset (except for the last image which will be reserved for the predicting) [1]"
   ]
  },
  {
   "cell_type": "markdown",
   "id": "c4219501",
   "metadata": {},
   "source": [
    "- selecting the training set with the ``[:-1]`` python syntax produces a new array that contains all but the last item from ``digits.data`` [1]"
   ]
  },
  {
   "cell_type": "code",
   "execution_count": 22,
   "id": "44051a72",
   "metadata": {},
   "outputs": [
    {
     "name": "stdout",
     "output_type": "stream",
     "text": [
      "Fit the SVM model according to the given training data.\n"
     ]
    }
   ],
   "source": [
    "print(\"\\n\".join(svm.SVC.fit.__doc__.split(\"\\n\")[:1]))"
   ]
  },
  {
   "cell_type": "code",
   "execution_count": 23,
   "id": "84358554",
   "metadata": {},
   "outputs": [
    {
     "data": {
      "text/plain": [
       "SVC(C=100.0, gamma=0.001)"
      ]
     },
     "execution_count": 23,
     "metadata": {},
     "output_type": "execute_result"
    }
   ],
   "source": [
    "clf.fit(X=digits.data[:-1],y=digits.target[:-1])"
   ]
  },
  {
   "cell_type": "markdown",
   "id": "32d830bc",
   "metadata": {},
   "source": [
    "< [Table of Contents](#top) | [References](#references) >\n",
    "<a id=\"anintroductiontomachinelearningwithscikitLearningPredictingClassiferFitModelPredict\"></a>\n",
    "***\n",
    "###### Predict\n",
    "***"
   ]
  },
  {
   "cell_type": "markdown",
   "id": "1ea14c60",
   "metadata": {},
   "source": [
    "- now can predict new values [1]"
   ]
  },
  {
   "cell_type": "markdown",
   "id": "f34fddbb",
   "metadata": {},
   "source": [
    "- in this case predicting using the last image from ``digits.data`` [1]"
   ]
  },
  {
   "cell_type": "markdown",
   "id": "2debee56",
   "metadata": {},
   "source": [
    "- predicting is to determine the image from the training set that best matches the last image [1]"
   ]
  },
  {
   "cell_type": "code",
   "execution_count": 24,
   "id": "db34c942",
   "metadata": {},
   "outputs": [
    {
     "name": "stdout",
     "output_type": "stream",
     "text": [
      "Perform classification on samples in X.\n"
     ]
    }
   ],
   "source": [
    "print(\"\\n\".join(svm.SVC.predict.__doc__.split(\"\\n\")[:1]))"
   ]
  },
  {
   "cell_type": "code",
   "execution_count": 25,
   "id": "2e3eb4a9",
   "metadata": {},
   "outputs": [
    {
     "data": {
      "text/plain": [
       "array([8])"
      ]
     },
     "execution_count": 25,
     "metadata": {},
     "output_type": "execute_result"
    }
   ],
   "source": [
    "clf.predict(digits.data[-1:]) # return the y_pred"
   ]
  },
  {
   "cell_type": "code",
   "execution_count": 26,
   "id": "f4ed6a05",
   "metadata": {},
   "outputs": [
    {
     "data": {
      "image/png": "[encoded data removed]",
      "text/plain": [
       "<Figure size 921.6x518.4 with 1 Axes>"
      ]
     },
     "metadata": {},
     "output_type": "display_data"
    }
   ],
   "source": [
    "plt.imshow(X=digits.images[-1],cmap=plt.cm.gray_r,interpolation=\"nearest\"); # the corresponding image"
   ]
  },
  {
   "cell_type": "markdown",
   "id": "033fe04d",
   "metadata": {},
   "source": [
    "- the complete example of this classification problem is available at ([``scikit-learn``](https://scikit-learn.org/stable/auto_examples/classification/plot_digits_classification.html#sphx-glr-auto-examples-classification-plot-digits-classification-py))"
   ]
  },
  {
   "cell_type": "markdown",
   "id": "ad685025",
   "metadata": {},
   "source": [
    "< [Table of Contents](#top) | [References](#references) >\n",
    "<a id=\"anintroductiontomachinelearningwithscikitConventions\"></a>\n",
    "***\n",
    "###### Conventions\n",
    "***"
   ]
  },
  {
   "cell_type": "markdown",
   "id": "4d476bff",
   "metadata": {},
   "source": [
    "- ``scikit-learn`` estimators (models) follow certain rules to make their behavior more predictive ([``scikit-learn``](https://scikit-learn.org/stable/glossary.html#glossary)) [1]"
   ]
  },
  {
   "cell_type": "markdown",
   "id": "a88ba2db",
   "metadata": {},
   "source": [
    "< [Table of Contents](#top) | [References](#references) >\n",
    "<a id=\"anintroductiontomachinelearningwithscikitConventionsTypeCasting\"></a>\n",
    "***\n",
    "###### Type Casting\n",
    "***"
   ]
  },
  {
   "cell_type": "markdown",
   "id": "293a1088",
   "metadata": {},
   "source": [
    "- unless otherwise specified the input will be cast to ``float64`` [1]"
   ]
  },
  {
   "cell_type": "code",
   "execution_count": 27,
   "id": "5e0cdea5",
   "metadata": {},
   "outputs": [],
   "source": [
    "import numpy as np\n",
    "from sklearn import random_projection"
   ]
  },
  {
   "cell_type": "code",
   "execution_count": 28,
   "id": "40ecd400",
   "metadata": {},
   "outputs": [
    {
     "name": "stdout",
     "output_type": "stream",
     "text": [
      "Random Projection transformers.\n"
     ]
    }
   ],
   "source": [
    "print(\"\\n\".join(random_projection.__doc__.split(\"\\n\")[:1]))"
   ]
  },
  {
   "cell_type": "code",
   "execution_count": 29,
   "id": "43bc8711",
   "metadata": {},
   "outputs": [],
   "source": [
    "rng=np.random.RandomState(0)\n",
    "X=rng.rand(10,2000)\n",
    "X=np.array(X,dtype=\"float32\")"
   ]
  },
  {
   "cell_type": "markdown",
   "id": "ecb44066",
   "metadata": {},
   "source": [
    "- ``X`` is ``float32`` [1]"
   ]
  },
  {
   "cell_type": "code",
   "execution_count": 30,
   "id": "4de6652d",
   "metadata": {},
   "outputs": [
    {
     "data": {
      "text/plain": [
       "dtype('float32')"
      ]
     },
     "execution_count": 30,
     "metadata": {},
     "output_type": "execute_result"
    }
   ],
   "source": [
    "X.dtype"
   ]
  },
  {
   "cell_type": "code",
   "execution_count": 31,
   "id": "723eb078",
   "metadata": {},
   "outputs": [
    {
     "name": "stdout",
     "output_type": "stream",
     "text": [
      "Reduce dimensionality through Gaussian random projection.\n"
     ]
    }
   ],
   "source": [
    "print(\"\\n\".join(random_projection.GaussianRandomProjection.__doc__.split(\"\\n\")[:1]))"
   ]
  },
  {
   "cell_type": "code",
   "execution_count": 32,
   "id": "d6aed53d",
   "metadata": {},
   "outputs": [],
   "source": [
    "transformer=random_projection.GaussianRandomProjection()"
   ]
  },
  {
   "cell_type": "code",
   "execution_count": 33,
   "id": "42cf7047",
   "metadata": {},
   "outputs": [
    {
     "name": "stdout",
     "output_type": "stream",
     "text": [
      "        Fit to data, then transform it.\n",
      "\n",
      "        Fits transformer to `X` and `y` with optional parameters `fit_params`\n",
      "        and returns a transformed version of `X`.\n"
     ]
    }
   ],
   "source": [
    "print(\"\\n\".join(random_projection.GaussianRandomProjection.fit_transform.__doc__.split(\"\\n\")[1:5]))"
   ]
  },
  {
   "cell_type": "markdown",
   "id": "7a03924c",
   "metadata": {},
   "source": [
    "- ``X`` is cast to ``float64`` by ``fit_transform`` [1]"
   ]
  },
  {
   "cell_type": "code",
   "execution_count": 34,
   "id": "c8181e32",
   "metadata": {},
   "outputs": [],
   "source": [
    "X_new=transformer.fit_transform(X)"
   ]
  },
  {
   "cell_type": "code",
   "execution_count": 35,
   "id": "2d669d5b",
   "metadata": {},
   "outputs": [
    {
     "data": {
      "text/plain": [
       "dtype('float64')"
      ]
     },
     "execution_count": 35,
     "metadata": {},
     "output_type": "execute_result"
    }
   ],
   "source": [
    "X_new.dtype"
   ]
  },
  {
   "cell_type": "markdown",
   "id": "9ba63254",
   "metadata": {},
   "source": [
    "- regression targets are cast to ``float64`` and classification targets are maintained [1]"
   ]
  },
  {
   "cell_type": "code",
   "execution_count": 36,
   "id": "c197548b",
   "metadata": {},
   "outputs": [],
   "source": [
    "clf=svm.SVC()"
   ]
  },
  {
   "cell_type": "code",
   "execution_count": 37,
   "id": "d7978788",
   "metadata": {},
   "outputs": [
    {
     "data": {
      "text/plain": [
       "array([0, 0, 0, 0, 0, 0, 0, 0, 0, 0, 0, 0, 0, 0, 0, 0, 0, 0, 0, 0, 0, 0,\n",
       "       0, 0, 0, 0, 0, 0, 0, 0, 0, 0, 0, 0, 0, 0, 0, 0, 0, 0, 0, 0, 0, 0,\n",
       "       0, 0, 0, 0, 0, 0, 1, 1, 1, 1, 1, 1, 1, 1, 1, 1, 1, 1, 1, 1, 1, 1,\n",
       "       1, 1, 1, 1, 1, 1, 1, 1, 1, 1, 1, 1, 1, 1, 1, 1, 1, 1, 1, 1, 1, 1,\n",
       "       1, 1, 1, 1, 1, 1, 1, 1, 1, 1, 1, 1, 2, 2, 2, 2, 2, 2, 2, 2, 2, 2,\n",
       "       2, 2, 2, 2, 2, 2, 2, 2, 2, 2, 2, 2, 2, 2, 2, 2, 2, 2, 2, 2, 2, 2,\n",
       "       2, 2, 2, 2, 2, 2, 2, 2, 2, 2, 2, 2, 2, 2, 2, 2, 2, 2])"
      ]
     },
     "execution_count": 37,
     "metadata": {},
     "output_type": "execute_result"
    }
   ],
   "source": [
    "iris.target"
   ]
  },
  {
   "cell_type": "code",
   "execution_count": 38,
   "id": "14ea74cd",
   "metadata": {},
   "outputs": [
    {
     "data": {
      "text/plain": [
       "SVC()"
      ]
     },
     "execution_count": 38,
     "metadata": {},
     "output_type": "execute_result"
    }
   ],
   "source": [
    "clf.fit(X=iris.data,y=iris.target)"
   ]
  },
  {
   "cell_type": "markdown",
   "id": "57970c89",
   "metadata": {},
   "source": [
    "- method ``predict`` returns an integer array since the integer array ``iris.target`` was used in method ``fit`` [1]"
   ]
  },
  {
   "cell_type": "code",
   "execution_count": 39,
   "id": "a882b154",
   "metadata": {},
   "outputs": [
    {
     "data": {
      "text/plain": [
       "[0, 0, 0]"
      ]
     },
     "execution_count": 39,
     "metadata": {},
     "output_type": "execute_result"
    }
   ],
   "source": [
    "list(clf.predict(X=iris.data[:3]))"
   ]
  },
  {
   "cell_type": "code",
   "execution_count": 40,
   "id": "9e83189f",
   "metadata": {},
   "outputs": [
    {
     "data": {
      "text/plain": [
       "array(['setosa', 'versicolor', 'virginica'], dtype='<U10')"
      ]
     },
     "execution_count": 40,
     "metadata": {},
     "output_type": "execute_result"
    }
   ],
   "source": [
    "iris.target_names"
   ]
  },
  {
   "cell_type": "code",
   "execution_count": 41,
   "id": "ed531ff5",
   "metadata": {},
   "outputs": [
    {
     "data": {
      "text/plain": [
       "array(['setosa', 'setosa', 'setosa', 'setosa', 'setosa', 'setosa',\n",
       "       'setosa', 'setosa', 'setosa', 'setosa', 'setosa', 'setosa',\n",
       "       'setosa', 'setosa', 'setosa', 'setosa', 'setosa', 'setosa',\n",
       "       'setosa', 'setosa', 'setosa', 'setosa', 'setosa', 'setosa',\n",
       "       'setosa', 'setosa', 'setosa', 'setosa', 'setosa', 'setosa',\n",
       "       'setosa', 'setosa', 'setosa', 'setosa', 'setosa', 'setosa',\n",
       "       'setosa', 'setosa', 'setosa', 'setosa', 'setosa', 'setosa',\n",
       "       'setosa', 'setosa', 'setosa', 'setosa', 'setosa', 'setosa',\n",
       "       'setosa', 'setosa', 'versicolor', 'versicolor', 'versicolor',\n",
       "       'versicolor', 'versicolor', 'versicolor', 'versicolor',\n",
       "       'versicolor', 'versicolor', 'versicolor', 'versicolor',\n",
       "       'versicolor', 'versicolor', 'versicolor', 'versicolor',\n",
       "       'versicolor', 'versicolor', 'versicolor', 'versicolor',\n",
       "       'versicolor', 'versicolor', 'versicolor', 'versicolor',\n",
       "       'versicolor', 'versicolor', 'versicolor', 'versicolor',\n",
       "       'versicolor', 'versicolor', 'versicolor', 'versicolor',\n",
       "       'versicolor', 'versicolor', 'versicolor', 'versicolor',\n",
       "       'versicolor', 'versicolor', 'versicolor', 'versicolor',\n",
       "       'versicolor', 'versicolor', 'versicolor', 'versicolor',\n",
       "       'versicolor', 'versicolor', 'versicolor', 'versicolor',\n",
       "       'versicolor', 'versicolor', 'versicolor', 'virginica', 'virginica',\n",
       "       'virginica', 'virginica', 'virginica', 'virginica', 'virginica',\n",
       "       'virginica', 'virginica', 'virginica', 'virginica', 'virginica',\n",
       "       'virginica', 'virginica', 'virginica', 'virginica', 'virginica',\n",
       "       'virginica', 'virginica', 'virginica', 'virginica', 'virginica',\n",
       "       'virginica', 'virginica', 'virginica', 'virginica', 'virginica',\n",
       "       'virginica', 'virginica', 'virginica', 'virginica', 'virginica',\n",
       "       'virginica', 'virginica', 'virginica', 'virginica', 'virginica',\n",
       "       'virginica', 'virginica', 'virginica', 'virginica', 'virginica',\n",
       "       'virginica', 'virginica', 'virginica', 'virginica', 'virginica',\n",
       "       'virginica', 'virginica', 'virginica'], dtype='<U10')"
      ]
     },
     "execution_count": 41,
     "metadata": {},
     "output_type": "execute_result"
    }
   ],
   "source": [
    "iris.target_names[iris.target]"
   ]
  },
  {
   "cell_type": "code",
   "execution_count": 42,
   "id": "f522002b",
   "metadata": {},
   "outputs": [
    {
     "data": {
      "text/plain": [
       "SVC()"
      ]
     },
     "execution_count": 42,
     "metadata": {},
     "output_type": "execute_result"
    }
   ],
   "source": [
    "clf.fit(X=iris.data,y=iris.target_names[iris.target])"
   ]
  },
  {
   "cell_type": "markdown",
   "id": "1c796047",
   "metadata": {},
   "source": [
    "- method ``predict`` returns a string array since the string array ``iris.target_names`` was used in method ``fit`` [1]"
   ]
  },
  {
   "cell_type": "code",
   "execution_count": 43,
   "id": "6c52e4c1",
   "metadata": {},
   "outputs": [
    {
     "data": {
      "text/plain": [
       "['setosa', 'setosa', 'setosa']"
      ]
     },
     "execution_count": 43,
     "metadata": {},
     "output_type": "execute_result"
    }
   ],
   "source": [
    "list(clf.predict(X=iris.data[:3]))"
   ]
  },
  {
   "cell_type": "markdown",
   "id": "3fa461fc",
   "metadata": {},
   "source": [
    "***\n",
    "## END"
   ]
  },
  {
   "cell_type": "markdown",
   "id": "e0e42d51",
   "metadata": {},
   "source": [
    "< [Table of Contents](#top) >\n",
    "<a id=\"references\"></a>\n",
    "***\n",
    "## References\n",
    "***\n",
    "\n",
    "&nbsp;&nbsp;&nbsp;&nbsp;&nbsp;&nbsp;&nbsp;&nbsp;&nbsp;[0] ``scikit-learn``, \"scikit-learn Tutorials,\" [scikit-learn 1.0.1](https://scikit-learn.org/stable/tutorial/index.html), n.d..\n",
    "\n",
    "&nbsp;&nbsp;&nbsp;&nbsp;&nbsp;&nbsp;&nbsp;&nbsp;&nbsp;[1] ``scikit-learn``, \"An introduction to machine learning with scikit-learn,\" [scikit-learn 1.0.1](https://scikit-learn.org/stable/tutorial/basic/tutorial.html), n.d.."
   ]
  },
  {
   "cell_type": "markdown",
   "id": "b33c372a",
   "metadata": {},
   "source": [
    "***\n",
    "## END"
   ]
  },
  {
   "cell_type": "markdown",
   "id": "e5961b4d",
   "metadata": {},
   "source": [
    "< [Table of Contents](#top) | [References](#references) >\n",
    "<a id=\"appendix\"></a>\n",
    "***\n",
    "## Appendix\n",
    "***"
   ]
  },
  {
   "cell_type": "markdown",
   "id": "55e0af3c",
   "metadata": {},
   "source": [
    "&#x1F6A7;"
   ]
  },
  {
   "cell_type": "markdown",
   "id": "00d82a82",
   "metadata": {},
   "source": [
    "***\n",
    "## END"
   ]
  },
  {
   "cell_type": "markdown",
   "id": "899c1783",
   "metadata": {},
   "source": [
    "# END JUPYTER NOTEBOOK"
   ]
  }
 ],
 "metadata": {
  "kernelspec": {
   "display_name": "Python 3",
   "language": "python",
   "name": "python3"
  },
  "language_info": {
   "codemirror_mode": {
    "name": "ipython",
    "version": 3
   },
   "file_extension": ".py",
   "mimetype": "text/x-python",
   "name": "python",
   "nbconvert_exporter": "python",
   "pygments_lexer": "ipython3",
   "version": "3.8.8"
  }
 },
 "nbformat": 4,
 "nbformat_minor": 5
}
